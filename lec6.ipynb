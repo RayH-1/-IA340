{
 "cells": [
  {
   "cell_type": "markdown",
   "metadata": {},
   "source": [
    "# Review"
   ]
  },
  {
   "cell_type": "code",
   "execution_count": 1,
   "metadata": {},
   "outputs": [
    {
     "name": "stdout",
     "output_type": "stream",
     "text": [
      "True\n"
     ]
    }
   ],
   "source": [
    "print(\"hello\" in \"hello world\")"
   ]
  },
  {
   "cell_type": "code",
   "execution_count": 2,
   "metadata": {},
   "outputs": [
    {
     "name": "stdout",
     "output_type": "stream",
     "text": [
      "False\n"
     ]
    }
   ],
   "source": [
    "print (\"hi\" in \"hello world\")"
   ]
  },
  {
   "cell_type": "code",
   "execution_count": 4,
   "metadata": {},
   "outputs": [
    {
     "name": "stdout",
     "output_type": "stream",
     "text": [
      "['hello', ' world']\n"
     ]
    }
   ],
   "source": [
    "print('hello, world'.split(','))"
   ]
  },
  {
   "cell_type": "code",
   "execution_count": 5,
   "metadata": {},
   "outputs": [
    {
     "name": "stdout",
     "output_type": "stream",
     "text": [
      "test     \n"
     ]
    }
   ],
   "source": [
    "print('test     ')"
   ]
  },
  {
   "cell_type": "code",
   "execution_count": 6,
   "metadata": {},
   "outputs": [
    {
     "name": "stdout",
     "output_type": "stream",
     "text": [
      "test\n"
     ]
    }
   ],
   "source": [
    "print('test     '.strip())"
   ]
  },
  {
   "cell_type": "markdown",
   "metadata": {},
   "source": [
    "# Requst HTML"
   ]
  },
  {
   "cell_type": "code",
   "execution_count": 7,
   "metadata": {},
   "outputs": [],
   "source": [
    "url = 'http://ia340datamining.s3-website-us-east-1.amazonaws.com/'"
   ]
  },
  {
   "cell_type": "code",
   "execution_count": 9,
   "metadata": {},
   "outputs": [
    {
     "name": "stdout",
     "output_type": "stream",
     "text": [
      "<!DOCTYPE html>\n",
      "\n",
      "<html>\n",
      "    \n",
      "    <header>\n",
      "        <title> IA 340 </title>\n",
      "        <style>\n",
      "                div.div_style{\n",
      "                    background-color: black;\n",
      "                        color: white;\n",
      "            }\n",
      "                span.span_style{\n",
      "                    color: red;\n",
      "            }\n",
      "            \n",
      "        </style>\n",
      "    </header>\n",
      "    \n",
      "    <body>\n",
      "        <h1> data mining </h1>\n",
      "        <img src= \"logo_ia340.png\">\n",
      "        <p> instructor: Xuebin Wei </p>\n",
      "        <p> website <a href = \"http://www.lbsocial.net\"> lbocial </a></p>\n",
      "        \n",
      "        <div id = \"div1\", class = \"div_style\">\n",
      "            <h2> Goals of the course </h2>\n",
      "            <ol>\n",
      "                <li> Understand basic concepts and technologies of data modeling in Relational Database\n",
      "Management System and Structured Query Language </li>\n",
      "                <li> Understand the basic technologies of Unstructured Database, Cloud Database, Data\n",
      "Warehouse, and Data Lake. </li>\n",
      "                <li> Be able to collect social media data or other online information from the Internet </li>\n",
      "            </ol>\n",
      "        </div>\n",
      "        <div id = \"div2\">\n",
      "            <h2> schedule </h2>\n",
      "            <table border = 1>\n",
      "                <tr> \n",
      "                    <th> date </th>\n",
      "                    <th> topic </th>\n",
      "                </tr>\n",
      "                <tr>\n",
      "                    <td> week1 </td>\n",
      "                    <td> database </td>\n",
      "                </tr>\n",
      "            </table>\n",
      "        </div>\n",
      "    </body>\n",
      "   \n",
      "    \n",
      "</html>\n"
     ]
    }
   ],
   "source": [
    "import urllib.request\n",
    "\n",
    "response = urllib.request.urlopen(url)\n",
    "\n",
    "html_data = response.read()\n",
    "\n",
    "print(html_data.decode('utf-8'))"
   ]
  },
  {
   "cell_type": "markdown",
   "metadata": {},
   "source": [
    "# Parse HTML"
   ]
  },
  {
   "cell_type": "code",
   "execution_count": 10,
   "metadata": {},
   "outputs": [
    {
     "name": "stdout",
     "output_type": "stream",
     "text": [
      "Requirement already satisfied: beautifulsoup4 in /home/ec2-user/anaconda3/envs/python3/lib/python3.6/site-packages (4.8.2)\n",
      "Requirement already satisfied: soupsieve>=1.2 in /home/ec2-user/anaconda3/envs/python3/lib/python3.6/site-packages (from beautifulsoup4) (1.9.5)\n",
      "\u001b[33mWARNING: You are using pip version 20.0.2; however, version 20.2.3 is available.\n",
      "You should consider upgrading via the '/home/ec2-user/anaconda3/envs/python3/bin/python -m pip install --upgrade pip' command.\u001b[0m\n"
     ]
    }
   ],
   "source": [
    "!pip install beautifulsoup4"
   ]
  },
  {
   "cell_type": "code",
   "execution_count": 12,
   "metadata": {},
   "outputs": [
    {
     "name": "stdout",
     "output_type": "stream",
     "text": [
      "<!DOCTYPE html>\n",
      "\n",
      "<html>\n",
      "<header>\n",
      "<title> IA 340 </title>\n",
      "<style>\n",
      "                div.div_style{\n",
      "                    background-color: black;\n",
      "                        color: white;\n",
      "            }\n",
      "                span.span_style{\n",
      "                    color: red;\n",
      "            }\n",
      "            \n",
      "        </style>\n",
      "</header>\n",
      "<body>\n",
      "<h1> data mining </h1>\n",
      "<img src=\"logo_ia340.png\"/>\n",
      "<p> instructor: Xuebin Wei </p>\n",
      "<p> website <a href=\"http://www.lbsocial.net\"> lbocial </a></p>\n",
      "<div ,=\"\" class=\"div_style\" id=\"div1\">\n",
      "<h2> Goals of the course </h2>\n",
      "<ol>\n",
      "<li> Understand basic concepts and technologies of data modeling in Relational Database\n",
      "Management System and Structured Query Language </li>\n",
      "<li> Understand the basic technologies of Unstructured Database, Cloud Database, Data\n",
      "Warehouse, and Data Lake. </li>\n",
      "<li> Be able to collect social media data or other online information from the Internet </li>\n",
      "</ol>\n",
      "</div>\n",
      "<div id=\"div2\">\n",
      "<h2> schedule </h2>\n",
      "<table border=\"1\">\n",
      "<tr>\n",
      "<th> date </th>\n",
      "<th> topic </th>\n",
      "</tr>\n",
      "<tr>\n",
      "<td> week1 </td>\n",
      "<td> database </td>\n",
      "</tr>\n",
      "</table>\n",
      "</div>\n",
      "</body>\n",
      "</html>\n"
     ]
    }
   ],
   "source": [
    "from bs4 import BeautifulSoup\n",
    "\n",
    "soup = BeautifulSoup(html_data,'html.parser')\n",
    "\n",
    "print(soup)"
   ]
  },
  {
   "cell_type": "markdown",
   "metadata": {},
   "source": [
    "# Inspect HTML"
   ]
  },
  {
   "cell_type": "code",
   "execution_count": 14,
   "metadata": {},
   "outputs": [
    {
     "name": "stdout",
     "output_type": "stream",
     "text": [
      "<div ,=\"\" class=\"div_style\" id=\"div1\">\n",
      "<h2> Goals of the course </h2>\n",
      "<ol>\n",
      "<li> Understand basic concepts and technologies of data modeling in Relational Database\n",
      "Management System and Structured Query Language </li>\n",
      "<li> Understand the basic technologies of Unstructured Database, Cloud Database, Data\n",
      "Warehouse, and Data Lake. </li>\n",
      "<li> Be able to collect social media data or other online information from the Internet </li>\n",
      "</ol>\n",
      "</div>\n",
      "<div id=\"div2\">\n",
      "<h2> schedule </h2>\n",
      "<table border=\"1\">\n",
      "<tr>\n",
      "<th> date </th>\n",
      "<th> topic </th>\n",
      "</tr>\n",
      "<tr>\n",
      "<td> week1 </td>\n",
      "<td> database </td>\n",
      "</tr>\n",
      "</table>\n",
      "</div>\n"
     ]
    }
   ],
   "source": [
    "for div in soup.find_all('div'):\n",
    "    print(div)"
   ]
  },
  {
   "cell_type": "code",
   "execution_count": 15,
   "metadata": {},
   "outputs": [
    {
     "name": "stdout",
     "output_type": "stream",
     "text": [
      "<h2> Goals of the course </h2>\n",
      "<h2> schedule </h2>\n"
     ]
    }
   ],
   "source": [
    "for h2 in soup.find_all('h2'):\n",
    "    print(h2)"
   ]
  },
  {
   "cell_type": "code",
   "execution_count": 16,
   "metadata": {},
   "outputs": [
    {
     "name": "stdout",
     "output_type": "stream",
     "text": [
      "<div ,=\"\" class=\"div_style\" id=\"div1\">\n",
      "<h2> Goals of the course </h2>\n",
      "<ol>\n",
      "<li> Understand basic concepts and technologies of data modeling in Relational Database\n",
      "Management System and Structured Query Language </li>\n",
      "<li> Understand the basic technologies of Unstructured Database, Cloud Database, Data\n",
      "Warehouse, and Data Lake. </li>\n",
      "<li> Be able to collect social media data or other online information from the Internet </li>\n",
      "</ol>\n",
      "</div>\n"
     ]
    }
   ],
   "source": [
    "for div in soup.find_all('div',id='div1'):\n",
    "    print(div)"
   ]
  },
  {
   "cell_type": "code",
   "execution_count": 18,
   "metadata": {},
   "outputs": [
    {
     "name": "stdout",
     "output_type": "stream",
     "text": [
      "<div ,=\"\" class=\"div_style\" id=\"div1\">\n",
      "<h2> Goals of the course </h2>\n",
      "<ol>\n",
      "<li> Understand basic concepts and technologies of data modeling in Relational Database\n",
      "Management System and Structured Query Language </li>\n",
      "<li> Understand the basic technologies of Unstructured Database, Cloud Database, Data\n",
      "Warehouse, and Data Lake. </li>\n",
      "<li> Be able to collect social media data or other online information from the Internet </li>\n",
      "</ol>\n",
      "</div>\n"
     ]
    }
   ],
   "source": [
    "for div in soup.find_all('div', class_='div_style'):\n",
    "    print(div)"
   ]
  },
  {
   "cell_type": "markdown",
   "metadata": {},
   "source": [
    "## Find Attribute"
   ]
  },
  {
   "cell_type": "code",
   "execution_count": 20,
   "metadata": {},
   "outputs": [
    {
     "name": "stdout",
     "output_type": "stream",
     "text": [
      " Goals of the course \n"
     ]
    }
   ],
   "source": [
    "for div in soup.find_all('div', class_='div_style'):\n",
    "    print(div.h2.text)"
   ]
  },
  {
   "cell_type": "code",
   "execution_count": 21,
   "metadata": {},
   "outputs": [
    {
     "name": "stdout",
     "output_type": "stream",
     "text": [
      "<li> Understand basic concepts and technologies of data modeling in Relational Database\n",
      "Management System and Structured Query Language </li>\n"
     ]
    }
   ],
   "source": [
    "for div in soup.find_all('div', class_='div_style'):\n",
    "    print(div.li)"
   ]
  },
  {
   "cell_type": "code",
   "execution_count": 23,
   "metadata": {},
   "outputs": [
    {
     "name": "stdout",
     "output_type": "stream",
     "text": [
      "div1\n"
     ]
    }
   ],
   "source": [
    "for div in soup.find_all('div', class_='div_style'):\n",
    "    print(div['id'])"
   ]
  },
  {
   "cell_type": "code",
   "execution_count": 24,
   "metadata": {},
   "outputs": [
    {
     "name": "stdout",
     "output_type": "stream",
     "text": [
      "div1\n"
     ]
    }
   ],
   "source": [
    "for div in soup.find_all('div', class_='div_style'):\n",
    "    print(div.get('id'))"
   ]
  },
  {
   "cell_type": "markdown",
   "metadata": {},
   "source": [
    "## Nested Structure"
   ]
  },
  {
   "cell_type": "code",
   "execution_count": 26,
   "metadata": {},
   "outputs": [
    {
     "name": "stdout",
     "output_type": "stream",
     "text": [
      "<li> Understand basic concepts and technologies of data modeling in Relational Database\n",
      "Management System and Structured Query Language </li>\n",
      "<li> Understand the basic technologies of Unstructured Database, Cloud Database, Data\n",
      "Warehouse, and Data Lake. </li>\n",
      "<li> Be able to collect social media data or other online information from the Internet </li>\n"
     ]
    }
   ],
   "source": [
    "for div in soup.find_all('div', class_='div_style'):\n",
    "    for li in div.find_all('li'):\n",
    "        print(li)\n",
    "    "
   ]
  },
  {
   "cell_type": "markdown",
   "metadata": {},
   "source": [
    "### Example 1"
   ]
  },
  {
   "cell_type": "code",
   "execution_count": 30,
   "metadata": {},
   "outputs": [
    {
     "name": "stdout",
     "output_type": "stream",
     "text": [
      " Xuebin Wei \n"
     ]
    }
   ],
   "source": [
    "for p in soup.find_all('p'):\n",
    "    if 'instructor' in p.text:\n",
    "        print(p.text.split(\":\")[1])"
   ]
  },
  {
   "cell_type": "code",
   "execution_count": 37,
   "metadata": {},
   "outputs": [
    {
     "name": "stdout",
     "output_type": "stream",
     "text": [
      "http://www.lbsocial.net\n"
     ]
    }
   ],
   "source": [
    "for p in soup.find_all('p'):\n",
    "    for a in p.find_all('a'):\n",
    "        print(a.get('href'))\n"
   ]
  },
  {
   "cell_type": "code",
   "execution_count": null,
   "metadata": {},
   "outputs": [],
   "source": []
  }
 ],
 "metadata": {
  "kernelspec": {
   "display_name": "conda_python3",
   "language": "python",
   "name": "conda_python3"
  },
  "language_info": {
   "codemirror_mode": {
    "name": "ipython",
    "version": 3
   },
   "file_extension": ".py",
   "mimetype": "text/x-python",
   "name": "python",
   "nbconvert_exporter": "python",
   "pygments_lexer": "ipython3",
   "version": "3.6.10"
  }
 },
 "nbformat": 4,
 "nbformat_minor": 4
}
